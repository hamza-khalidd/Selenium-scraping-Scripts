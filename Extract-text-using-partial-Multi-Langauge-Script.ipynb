{
 "cells": [
  {
   "cell_type": "code",
   "execution_count": null,
   "id": "666055fb",
   "metadata": {},
   "outputs": [],
   "source": [
    "#Importing Libraries\n",
    "from selenium import webdriver\n",
    "from selenium.webdriver.common.keys import Keys\n",
    "from selenium.webdriver.support.ui import WebDriverWait\n",
    "import time\n",
    "import pandas as pd\n",
    "from bs4 import BeautifulSoup\n",
    "from selenium.webdriver.common.by import By"
   ]
  },
  {
   "cell_type": "code",
   "execution_count": null,
   "id": "d577454b",
   "metadata": {},
   "outputs": [],
   "source": [
    "chrome_options = webdriver.ChromeOptions()\n",
    "chrome_options.add_argument('--incognito')\n",
    "driver = webdriver.Chrome('C:\\chromedriver_win32\\chromedriver.exe',chrome_options=chrome_options)\n",
    "driver.implicitly_wait(2)"
   ]
  },
  {
   "cell_type": "code",
   "execution_count": null,
   "id": "b47ae96f",
   "metadata": {},
   "outputs": [],
   "source": [
    "dt = pd.read_excel('20210512_Domains.xlsx')"
   ]
  },
  {
   "cell_type": "code",
   "execution_count": null,
   "id": "03dc1abd",
   "metadata": {},
   "outputs": [],
   "source": [
    "dt.drop([0], inplace=True)"
   ]
  },
  {
   "cell_type": "code",
   "execution_count": null,
   "id": "0ac238cf",
   "metadata": {},
   "outputs": [],
   "source": [
    "newlist = []\n",
    "#List of Finding Keywords\n",
    "lVar = ['Inhaber', 'Geschäftsführer', 'owner', 'Eigentümer', 'Marketing', 'Sales', 'MD']\n",
    "linkC = 0\n",
    "for URLS in dt.url:\n",
    "    res = []\n",
    "    links = []\n",
    "    driver.get(URLS)\n",
    "    driver.implicitly_wait(5)\n",
    "    soup_a = BeautifulSoup(driver.page_source, 'lxml')\n",
    "    time.sleep(1)\n",
    "    for link in soup_a.find_all('a'):\n",
    "            # link.get('href') gets the href/url out of the a element\n",
    "            links.append(link.get('href'))\n",
    "\n",
    "    for i in links:\n",
    "        res.append(URLS+'/'+str(i))\n",
    "\n",
    "    cc = 0\n",
    "    for k in res:\n",
    "        driver.get(k)\n",
    "        time.sleep(1)\n",
    "        for i in range(len(lVar)):\n",
    "            txt = driver.find_elements_by_link_text(lVar[i])\n",
    "            parT = driver.find_elements_by_partial_link_text(lVar[i])\n",
    "            if len(parT) == 0 and len(txt) == 0:\n",
    "                pass\n",
    "            else:\n",
    "                newlist.append(k)\n",
    "linkC+=1\n",
    "print('Websites Complete : ', linkC)"
   ]
  }
 ],
 "metadata": {
  "kernelspec": {
   "display_name": "Python 3",
   "language": "python",
   "name": "python3"
  },
  "language_info": {
   "codemirror_mode": {
    "name": "ipython",
    "version": 3
   },
   "file_extension": ".py",
   "mimetype": "text/x-python",
   "name": "python",
   "nbconvert_exporter": "python",
   "pygments_lexer": "ipython3",
   "version": "3.8.8"
  }
 },
 "nbformat": 4,
 "nbformat_minor": 5
}
