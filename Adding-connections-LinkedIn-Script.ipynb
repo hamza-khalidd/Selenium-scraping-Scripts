{
 "cells": [
  {
   "cell_type": "markdown",
   "id": "97e0d48a",
   "metadata": {},
   "source": [
    "### <em> Importing Relevant Libraries </em>"
   ]
  },
  {
   "cell_type": "code",
   "execution_count": null,
   "id": "08c561a9",
   "metadata": {},
   "outputs": [],
   "source": [
    "from selenium import webdriver\n",
    "from selenium.webdriver.common.keys import Keys\n",
    "from selenium.webdriver.common.by import By\n",
    "from selenium.webdriver.support.ui import WebDriverWait\n",
    "import time"
   ]
  },
  {
   "cell_type": "markdown",
   "id": "67159127",
   "metadata": {},
   "source": [
    "### <em> Script </em>"
   ]
  },
  {
   "cell_type": "code",
   "execution_count": null,
   "id": "c7580d1c",
   "metadata": {},
   "outputs": [],
   "source": [
    "\n",
    "\n",
    "# Login Into LinkedIn\n",
    "chrome_options = webdriver.ChromeOptions()\n",
    "chrome_options.add_argument(\"--incognito\")\n",
    "driver = webdriver.Chrome('C:\\chromedriver_win32\\chromedriver.exe',chrome_options=chrome_options)\n",
    "driver.implicitly_wait(2)\n",
    "\n",
    "# Open Driver\n",
    "driver.get('https://www.linkedin.com/')\n",
    "time.sleep(5)\n",
    "\n",
    "# Go To Sign In Page\n",
    "n = driver.find_element_by_class_name('nav__button-secondary')\n",
    "n.click()\n",
    "time.sleep(3)\n",
    "\n",
    "# Input Email and Password For Login\n",
    "email = input('Enter User Email ? ')\n",
    "password = input('Enter User Password ? ')\n",
    "un = driver.find_element_by_id('username')\n",
    "un.send_keys(email)\n",
    "time.sleep(3)\n",
    "pas = driver.find_element_by_id('password')\n",
    "pas.send_keys(password)\n",
    "time.sleep(2)\n",
    "btn2 = driver.find_element_by_class_name('login__form_action_container')\n",
    "btn2.click()\n",
    "\n",
    "# List (lst) containing the profile links for sending connections\n",
    "lst = ['', '', '']\n",
    "for i in lst:\n",
    "    driver.get(i)\n",
    "    driver.implicitly_wait(9)\n",
    "    time.sleep(2)\n",
    "    # Adding Connects To LinkedIn Profile\n",
    "    try:\n",
    "        con = driver.find_element_by_xpath(\"//button[@data-control-name='connect']\")\n",
    "        con.click()\n",
    "        time.sleep(2)\n",
    "        send = driver.find_element_by_xpath(\"//button[@aria-label='Send now']\")\n",
    "        send.click()\n",
    "    except:\n",
    "        pass\n",
    "\n"
   ]
  }
 ],
 "metadata": {
  "kernelspec": {
   "display_name": "Python 3",
   "language": "python",
   "name": "python3"
  },
  "language_info": {
   "codemirror_mode": {
    "name": "ipython",
    "version": 3
   },
   "file_extension": ".py",
   "mimetype": "text/x-python",
   "name": "python",
   "nbconvert_exporter": "python",
   "pygments_lexer": "ipython3",
   "version": "3.8.8"
  }
 },
 "nbformat": 4,
 "nbformat_minor": 5
}
